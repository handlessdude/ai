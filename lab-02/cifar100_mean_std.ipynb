{
 "cells": [
  {
   "metadata": {
    "ExecuteTime": {
     "end_time": "2024-11-29T22:00:47.002458Z",
     "start_time": "2024-11-29T22:00:24.796723Z"
    }
   },
   "cell_type": "code",
   "source": [
    "# import numpy as np\n",
    "# from torchvision import datasets\n",
    "# \n",
    "# # load CIFAR\n",
    "# train_dataset = datasets.CIFAR100(root='./data', train=True, download=True)\n",
    "# test_dataset = datasets.CIFAR100(root='./data', train=False, download=True)\n",
    "# \n",
    "# data = np.concatenate([np.asarray(train_dataset[i][0]) for i in range(len(train_dataset))])\n",
    "# \n",
    "# # calculate the mean and std along the (0, 1) axes\n",
    "# \n",
    "# train_mean = np.mean(data, axis=(0, 1)) \n",
    "# train_std = np.std(data, axis=(0, 1))\n",
    "# # the the mean and std\n",
    "# print(train_mean, train_std)"
   ],
   "id": "d76552fec80a0b44",
   "outputs": [
    {
     "name": "stdout",
     "output_type": "stream",
     "text": [
      "Files already downloaded and verified\n",
      "Files already downloaded and verified\n",
      "[129.37731888 124.10583864 112.47758569] [68.20947949 65.43124043 70.45866994]\n"
     ]
    }
   ],
   "execution_count": 1
  },
  {
   "metadata": {},
   "cell_type": "markdown",
   "source": [
    "подсчет по полному датасету:\n",
    "\n",
    "mean / 255.0 = array([0.50736203, 0.48668956, 0.44108857])\n",
    "\n",
    "std / 255.0 = array([0.26748815, 0.2565931 , 0.27630851])"
   ],
   "id": "63abae429976437"
  },
  {
   "metadata": {},
   "cell_type": "markdown",
   "source": "",
   "id": "6d320fdbf585f8d7"
  },
  {
   "metadata": {
    "ExecuteTime": {
     "end_time": "2024-11-29T22:08:35.539894Z",
     "start_time": "2024-11-29T22:08:29.989449Z"
    }
   },
   "cell_type": "code",
   "source": [
    "import numpy as np\n",
    "from torchvision import datasets,\n",
    "\n",
    "cifar100_train = datasets.CIFAR100(root=\"./data\", train=True, download=True)\n",
    "images = np.array([np.array(img) for img, _ in cifar100_train])\n",
    "\n",
    "mean = images.mean(axis=(0, 1, 2)) / 255.0\n",
    "std = images.std(axis=(0, 1, 2)) / 255.0\n",
    "\n",
    "print(\"Mean:\", mean)\n",
    "print(\"Standard Deviation:\", std)"
   ],
   "id": "3680a6d4e3daa10",
   "outputs": [
    {
     "name": "stdout",
     "output_type": "stream",
     "text": [
      "Files already downloaded and verified\n",
      "Mean: [0.50707516 0.48654887 0.44091784]\n",
      "Standard Deviation: [0.26733429 0.25643846 0.27615047]\n"
     ]
    }
   ],
   "execution_count": 4
  },
  {
   "metadata": {},
   "cell_type": "code",
   "outputs": [],
   "execution_count": null,
   "source": "",
   "id": "b3f5db0b842204cd"
  }
 ],
 "metadata": {
  "kernelspec": {
   "display_name": "Python 3",
   "language": "python",
   "name": "python3"
  },
  "language_info": {
   "codemirror_mode": {
    "name": "ipython",
    "version": 2
   },
   "file_extension": ".py",
   "mimetype": "text/x-python",
   "name": "python",
   "nbconvert_exporter": "python",
   "pygments_lexer": "ipython2",
   "version": "2.7.6"
  }
 },
 "nbformat": 4,
 "nbformat_minor": 5
}
