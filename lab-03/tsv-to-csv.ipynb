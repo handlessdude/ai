{
 "cells": [
  {
   "cell_type": "code",
   "id": "initial_id",
   "metadata": {
    "collapsed": true,
    "ExecuteTime": {
     "end_time": "2024-12-06T22:27:08.883030Z",
     "start_time": "2024-12-06T22:26:33.558634Z"
    }
   },
   "source": [
    "\n",
    "import csv\n",
    "\n",
    "def tsv_to_csv(tsv_file, csv_file):\n",
    "    try:\n",
    "        with open(tsv_file, 'r', newline='', encoding='utf-8') as tsv:\n",
    "            with open(csv_file, 'w', newline='', encoding='utf-8') as csv_f:\n",
    "                reader = csv.reader(tsv, delimiter='\\t')\n",
    "                writer = csv.writer(csv_f)\n",
    "                for row in reader:\n",
    "                    # Remove the first two symbols from the entire row\n",
    "                    row_str = '\\t'.join(row)  # Join the row into a single string\n",
    "                    row_str = row_str[2:]  # Remove the first two characters\n",
    "                    row = row_str.split('\\t')  # Split back into a list\n",
    "                    writer.writerow(row)\n",
    "        print(f\"Conversion complete. CSV saved as: {csv_file}\")\n",
    "    except Exception as e:\n",
    "        print(f\"An error occurred: {e}\")\n",
    "\n",
    "# Usage example:\n",
    "# Replace 'your_input_file.tsv' and 'your_output_file.csv' with your file paths\n",
    "# tsv_to_csv('./data/title.basics.tsv', './data/title.basics.csv')\n"
   ],
   "outputs": [
    {
     "name": "stdout",
     "output_type": "stream",
     "text": [
      "Conversion complete. CSV saved as: ./data/title.basics.csv\n"
     ]
    }
   ],
   "execution_count": 12
  },
  {
   "metadata": {
    "ExecuteTime": {
     "end_time": "2024-12-06T22:41:15.086260Z",
     "start_time": "2024-12-06T22:41:05.279287Z"
    }
   },
   "cell_type": "code",
   "source": [
    "import csv\n",
    "\n",
    "# Open the original CSV and the output CSV\n",
    "with open('./data/title.basics.csv', mode='r', newline='', encoding='utf-8') as infile, \\\n",
    "     open('./data/title.basics-filtered.csv', mode='w', newline='', encoding='utf-8') as outfile:\n",
    "    \n",
    "    reader = csv.reader(infile)\n",
    "    writer = csv.writer(outfile)\n",
    "    \n",
    "    # Read the header\n",
    "    header = next(reader)\n",
    "    writer.writerow(header)  # Write the header to the output CSV\n",
    "    \n",
    "    # Filter rows where titleType is 'movie'\n",
    "    for row in reader:\n",
    "        if row[1] == 'movie':  # Check if the titleType is 'movie'\n",
    "            writer.writerow(row)  # Write the matching row to the output file"
   ],
   "id": "b002783806697248",
   "outputs": [],
   "execution_count": 13
  },
  {
   "metadata": {},
   "cell_type": "code",
   "outputs": [],
   "execution_count": null,
   "source": "",
   "id": "f2418763d42b90f7"
  }
 ],
 "metadata": {
  "kernelspec": {
   "display_name": "Python 3",
   "language": "python",
   "name": "python3"
  },
  "language_info": {
   "codemirror_mode": {
    "name": "ipython",
    "version": 2
   },
   "file_extension": ".py",
   "mimetype": "text/x-python",
   "name": "python",
   "nbconvert_exporter": "python",
   "pygments_lexer": "ipython2",
   "version": "2.7.6"
  }
 },
 "nbformat": 4,
 "nbformat_minor": 5
}
