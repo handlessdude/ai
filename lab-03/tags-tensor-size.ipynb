{
 "cells": [
  {
   "cell_type": "code",
   "id": "initial_id",
   "metadata": {
    "collapsed": true,
    "ExecuteTime": {
     "end_time": "2024-12-06T20:09:06.554044Z",
     "start_time": "2024-12-06T20:09:06.546327Z"
    }
   },
   "source": [
    "import pandas as pd\n",
    "\n",
    "tags = pd.read_csv(\"./data/tags.csv\") \n",
    "\n",
    "tag_counts = tags.groupby([\"userId\", \"movieId\"]).size()\n",
    "\n",
    "max_tags = tag_counts.max()\n",
    "mean_tags = tag_counts.mean()\n",
    "std_tags = tag_counts.std()\n",
    "percentiles = tag_counts.quantile([0.5, 0.75, 0.9, 0.95, 0.99]) \n",
    "\n",
    "print(\"=== Tag Count Statistics ===\")\n",
    "print(f\"Maximum tags per pair: {max_tags}\")\n",
    "print(f\"Mean tags per pair: {mean_tags}\")\n",
    "print(f\"STD of tags per pair: {std_tags}\")\n",
    "print(\"\\nPercentiles:\")\n",
    "print(percentiles)\n",
    "\n",
    "print(f\"\\nmean_tags + std_tags: {int(mean_tags + std_tags)}\") # для большинства пар - сойдет"
   ],
   "outputs": [
    {
     "name": "stdout",
     "output_type": "stream",
     "text": [
      "=== Tag Count Statistics ===\n",
      "Maximum tags per pair: 173\n",
      "Mean tags per pair: 2.074929577464789\n",
      "STD of tags per pair: 4.807397201206442\n",
      "\n",
      "Percentiles:\n",
      "0.50     1.0\n",
      "0.75     2.0\n",
      "0.90     4.0\n",
      "0.95     6.0\n",
      "0.99    10.0\n",
      "dtype: float64\n",
      "\n",
      "mean_tags + std_tags: 6\n"
     ]
    }
   ],
   "execution_count": 3
  }
 ],
 "metadata": {
  "kernelspec": {
   "display_name": "Python 3",
   "language": "python",
   "name": "python3"
  },
  "language_info": {
   "codemirror_mode": {
    "name": "ipython",
    "version": 2
   },
   "file_extension": ".py",
   "mimetype": "text/x-python",
   "name": "python",
   "nbconvert_exporter": "python",
   "pygments_lexer": "ipython2",
   "version": "2.7.6"
  }
 },
 "nbformat": 4,
 "nbformat_minor": 5
}
